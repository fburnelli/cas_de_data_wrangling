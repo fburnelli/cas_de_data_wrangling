{
 "cells": [
  {
   "cell_type": "markdown",
   "metadata": {},
   "source": [
    "# CAS Data Engineering FHNW\n",
    "## Data Wrangling Module - Author F.Burnelli\n"
   ]
  },
  {
   "cell_type": "markdown",
   "metadata": {},
   "source": [
    "### Exercise 6 Validation\n",
    "### Note:use the Kernek: \"Python (wrangling)\"\n",
    "\n",
    "Run the Notebook and create your own Expectations"
   ]
  },
  {
   "cell_type": "code",
   "execution_count": 1,
   "metadata": {},
   "outputs": [],
   "source": [
    "import os\n",
    "## G R E A T  E X P E C T A T I O N S \n",
    "import great_expectations as gx\n"
   ]
  },
  {
   "cell_type": "markdown",
   "metadata": {},
   "source": [
    "### Data Path"
   ]
  },
  {
   "cell_type": "code",
   "execution_count": 2,
   "metadata": {},
   "outputs": [],
   "source": [
    "file_path = os.path.join(\"..\",\"data\", \"dirty-loan-data.csv\")\n",
    "\n"
   ]
  },
  {
   "cell_type": "markdown",
   "metadata": {},
   "source": [
    "### Create a Data Context\n",
    "- configurations\n",
    "- expectation suites\n",
    "- data sources \n",
    "- etc."
   ]
  },
  {
   "cell_type": "markdown",
   "metadata": {},
   "source": [
    "#### Note:for this exercise we skip the \"great_expectations init\" step "
   ]
  },
  {
   "cell_type": "code",
   "execution_count": 3,
   "metadata": {
    "scrolled": true
   },
   "outputs": [],
   "source": [
    "if not os.path.isdir(\"gx\"):\n",
    "    context = gx.get_context().convert_to_file_context()\n",
    "else:\n",
    "    context = gx.get_context()"
   ]
  },
  {
   "cell_type": "markdown",
   "metadata": {},
   "source": [
    "some files are created"
   ]
  },
  {
   "cell_type": "code",
   "execution_count": 4,
   "metadata": {
    "scrolled": true
   },
   "outputs": [
    {
     "name": "stdout",
     "output_type": "stream",
     "text": [
      "\u001b[34mcheckpoints\u001b[m\u001b[m            great_expectations.yml \u001b[34mprofilers\u001b[m\u001b[m\r\n",
      "\u001b[34mexpectations\u001b[m\u001b[m           \u001b[34mplugins\u001b[m\u001b[m                \u001b[34muncommitted\u001b[m\u001b[m\r\n"
     ]
    }
   ],
   "source": [
    "!ls gx/"
   ]
  },
  {
   "cell_type": "markdown",
   "metadata": {},
   "source": [
    "## Create a validator"
   ]
  },
  {
   "cell_type": "code",
   "execution_count": 5,
   "metadata": {
    "scrolled": true
   },
   "outputs": [],
   "source": [
    "validator = context.sources.pandas_default.read_csv(file_path)"
   ]
  },
  {
   "cell_type": "markdown",
   "metadata": {},
   "source": [
    "### Create an Expectation: Value in Range"
   ]
  },
  {
   "cell_type": "code",
   "execution_count": 6,
   "metadata": {
    "scrolled": true
   },
   "outputs": [
    {
     "data": {
      "application/vnd.jupyter.widget-view+json": {
       "model_id": "401305189eca4f1da00c5a329a72e720",
       "version_major": 2,
       "version_minor": 0
      },
      "text/plain": [
       "Calculating Metrics:   0%|          | 0/8 [00:00<?, ?it/s]"
      ]
     },
     "metadata": {},
     "output_type": "display_data"
    },
    {
     "data": {
      "text/plain": [
       "{\n",
       "  \"success\": true,\n",
       "  \"result\": {\n",
       "    \"element_count\": 17847,\n",
       "    \"unexpected_count\": 0,\n",
       "    \"unexpected_percent\": 0.0,\n",
       "    \"partial_unexpected_list\": [],\n",
       "    \"missing_count\": 1,\n",
       "    \"missing_percent\": 0.005603182607721186,\n",
       "    \"unexpected_percent_total\": 0.0,\n",
       "    \"unexpected_percent_nonmissing\": 0.0\n",
       "  },\n",
       "  \"meta\": {},\n",
       "  \"exception_info\": {\n",
       "    \"raised_exception\": false,\n",
       "    \"exception_traceback\": null,\n",
       "    \"exception_message\": null\n",
       "  }\n",
       "}"
      ]
     },
     "execution_count": 6,
     "metadata": {},
     "output_type": "execute_result"
    }
   ],
   "source": [
    "validator.expect_column_values_to_be_between(\n",
    "    \"annual_inc\", min_value=1, max_value=10000000\n",
    ")"
   ]
  },
  {
   "cell_type": "markdown",
   "metadata": {},
   "source": [
    "##### Default.json stores relevant info about the validation "
   ]
  },
  {
   "cell_type": "code",
   "execution_count": 7,
   "metadata": {},
   "outputs": [
    {
     "name": "stdout",
     "output_type": "stream",
     "text": [
      "-rw-r--r--  1 coding  staff  383 Jul 13 18:31 ./gx/expectations/default.json\r\n"
     ]
    }
   ],
   "source": [
    "!ls -rtl  ./gx/expectations/default.json"
   ]
  },
  {
   "cell_type": "code",
   "execution_count": 8,
   "metadata": {},
   "outputs": [],
   "source": [
    "validator.save_expectation_suite(discard_failed_expectations=False)\n",
    "\n"
   ]
  },
  {
   "cell_type": "markdown",
   "metadata": {},
   "source": [
    "### Create a Checkpoint\n",
    "It is a mechanism for running data validation pipelines with predefined expectations and configurations"
   ]
  },
  {
   "cell_type": "code",
   "execution_count": 9,
   "metadata": {},
   "outputs": [],
   "source": [
    "checkpoint = context.add_or_update_checkpoint(\n",
    "    name=\"checkpoint_1\",\n",
    "    validator=validator,\n",
    ")"
   ]
  },
  {
   "cell_type": "markdown",
   "metadata": {},
   "source": [
    "### Run the Validation"
   ]
  },
  {
   "cell_type": "code",
   "execution_count": 10,
   "metadata": {},
   "outputs": [
    {
     "data": {
      "application/vnd.jupyter.widget-view+json": {
       "model_id": "d12b0aacc42a4172a3d182fe0b3c7148",
       "version_major": 2,
       "version_minor": 0
      },
      "text/plain": [
       "Calculating Metrics:   0%|          | 0/10 [00:00<?, ?it/s]"
      ]
     },
     "metadata": {},
     "output_type": "display_data"
    }
   ],
   "source": [
    "result_format: dict = {\n",
    "    \"result_format\": \"COMPLETE\",\n",
    "    \"unexpected_index_column_names\": [\"event_id\"],\n",
    "}\n",
    "    \n",
    "checkpoint_results = checkpoint.run(result_format=result_format)"
   ]
  },
  {
   "cell_type": "markdown",
   "metadata": {},
   "source": [
    "### View Results (HTML)"
   ]
  },
  {
   "cell_type": "code",
   "execution_count": 13,
   "metadata": {
    "scrolled": true
   },
   "outputs": [],
   "source": [
    "context.view_validation_result(checkpoint_results)"
   ]
  },
  {
   "cell_type": "markdown",
   "metadata": {},
   "source": [
    "### View Results (json)"
   ]
  },
  {
   "cell_type": "code",
   "execution_count": 16,
   "metadata": {
    "scrolled": false
   },
   "outputs": [
    {
     "data": {
      "text/plain": [
       "{\n",
       "  \"run_id\": {\n",
       "    \"run_name\": null,\n",
       "    \"run_time\": \"2024-07-13T18:42:27.259390+02:00\"\n",
       "  },\n",
       "  \"run_results\": {\n",
       "    \"ValidationResultIdentifier::default/__none__/20240713T164227.259390Z/default_pandas_datasource-#ephemeral_pandas_asset\": {\n",
       "      \"validation_result\": {\n",
       "        \"success\": true,\n",
       "        \"results\": [\n",
       "          {\n",
       "            \"success\": true,\n",
       "            \"expectation_config\": {\n",
       "              \"expectation_type\": \"expect_column_values_to_be_between\",\n",
       "              \"kwargs\": {\n",
       "                \"column\": \"annual_inc\",\n",
       "                \"max_value\": 10000000,\n",
       "                \"min_value\": 1,\n",
       "                \"batch_id\": \"default_pandas_datasource-#ephemeral_pandas_asset\"\n",
       "              },\n",
       "              \"meta\": {}\n",
       "            },\n",
       "            \"result\": {\n",
       "              \"element_count\": 17847,\n",
       "              \"unexpected_count\": 0,\n",
       "              \"unexpected_percent\": 0.0,\n",
       "              \"partial_unexpected_list\": [],\n",
       "              \"unexpected_index_column_names\": [\n",
       "                \"event_id\"\n",
       "              ],\n",
       "              \"missing_count\": 1,\n",
       "              \"missing_percent\": 0.005603182607721186,\n",
       "              \"unexpected_percent_total\": 0.0,\n",
       "              \"unexpected_percent_nonmissing\": 0.0,\n",
       "              \"partial_unexpected_counts\": [],\n",
       "              \"partial_unexpected_index_list\": [],\n",
       "              \"unexpected_list\": [],\n",
       "              \"unexpected_index_list\": [],\n",
       "              \"unexpected_index_query\": \"df.filter(items=[], axis=0)\"\n",
       "            },\n",
       "            \"meta\": {},\n",
       "            \"exception_info\": {\n",
       "              \"raised_exception\": false,\n",
       "              \"exception_traceback\": null,\n",
       "              \"exception_message\": null\n",
       "            }\n",
       "          }\n",
       "        ],\n",
       "        \"evaluation_parameters\": {},\n",
       "        \"statistics\": {\n",
       "          \"evaluated_expectations\": 1,\n",
       "          \"successful_expectations\": 1,\n",
       "          \"unsuccessful_expectations\": 0,\n",
       "          \"success_percent\": 100.0\n",
       "        },\n",
       "        \"meta\": {\n",
       "          \"great_expectations_version\": \"0.18.18\",\n",
       "          \"expectation_suite_name\": \"default\",\n",
       "          \"run_id\": {\n",
       "            \"run_name\": null,\n",
       "            \"run_time\": \"2024-07-13T18:42:27.259390+02:00\"\n",
       "          },\n",
       "          \"batch_spec\": {\n",
       "            \"reader_method\": \"read_csv\",\n",
       "            \"reader_options\": {\n",
       "              \"filepath_or_buffer\": \"../data/dirty-loan-data.csv\"\n",
       "            }\n",
       "          },\n",
       "          \"batch_markers\": {\n",
       "            \"ge_load_time\": \"20240713T164227.269583Z\",\n",
       "            \"pandas_data_fingerprint\": \"031a6a26f6219f70c2ac9a95a1667b99\"\n",
       "          },\n",
       "          \"active_batch_definition\": {\n",
       "            \"datasource_name\": \"default_pandas_datasource\",\n",
       "            \"data_connector_name\": \"fluent\",\n",
       "            \"data_asset_name\": \"#ephemeral_pandas_asset\",\n",
       "            \"batch_identifiers\": {}\n",
       "          },\n",
       "          \"validation_time\": \"20240713T164227.418113Z\",\n",
       "          \"checkpoint_name\": \"checkpoint_1\",\n",
       "          \"validation_id\": null,\n",
       "          \"checkpoint_id\": null\n",
       "        }\n",
       "      },\n",
       "      \"actions_results\": {\n",
       "        \"store_validation_result\": {\n",
       "          \"class\": \"StoreValidationResultAction\"\n",
       "        },\n",
       "        \"store_evaluation_params\": {\n",
       "          \"class\": \"StoreEvaluationParametersAction\"\n",
       "        },\n",
       "        \"update_data_docs\": {\n",
       "          \"local_site\": \"file:///Users/coding/workspace/cas_de_data_wrangling/exercises/gx/uncommitted/data_docs/local_site/validations/default/__none__/20240713T164227.259390Z/default_pandas_datasource-%23ephemeral_pandas_asset.html\",\n",
       "          \"class\": \"UpdateDataDocsAction\"\n",
       "        }\n",
       "      }\n",
       "    }\n",
       "  },\n",
       "  \"checkpoint_config\": {\n",
       "    \"default_validation_id\": null,\n",
       "    \"run_name_template\": null,\n",
       "    \"slack_webhook\": null,\n",
       "    \"profilers\": [],\n",
       "    \"validations\": [\n",
       "      {\n",
       "        \"id\": null,\n",
       "        \"expectation_suite_name\": \"default\",\n",
       "        \"batch_request\": {\n",
       "          \"datasource_name\": \"default_pandas_datasource\",\n",
       "          \"data_asset_name\": \"#ephemeral_pandas_asset\",\n",
       "          \"options\": {},\n",
       "          \"batch_slice\": null\n",
       "        },\n",
       "        \"expectation_suite_ge_cloud_id\": null,\n",
       "        \"name\": null\n",
       "      }\n",
       "    ],\n",
       "    \"expectation_suite_name\": null,\n",
       "    \"evaluation_parameters\": {},\n",
       "    \"site_names\": null,\n",
       "    \"ge_cloud_id\": null,\n",
       "    \"action_list\": [\n",
       "      {\n",
       "        \"name\": \"store_validation_result\",\n",
       "        \"action\": {\n",
       "          \"class_name\": \"StoreValidationResultAction\"\n",
       "        }\n",
       "      },\n",
       "      {\n",
       "        \"name\": \"store_evaluation_params\",\n",
       "        \"action\": {\n",
       "          \"class_name\": \"StoreEvaluationParametersAction\"\n",
       "        }\n",
       "      },\n",
       "      {\n",
       "        \"name\": \"update_data_docs\",\n",
       "        \"action\": {\n",
       "          \"class_name\": \"UpdateDataDocsAction\"\n",
       "        }\n",
       "      }\n",
       "    ],\n",
       "    \"notify_on\": null,\n",
       "    \"class_name\": \"Checkpoint\",\n",
       "    \"batch_request\": {},\n",
       "    \"runtime_configuration\": {},\n",
       "    \"template_name\": null,\n",
       "    \"module_name\": \"great_expectations.checkpoint\",\n",
       "    \"config_version\": 1.0,\n",
       "    \"notify_with\": null,\n",
       "    \"expectation_suite_ge_cloud_id\": null,\n",
       "    \"name\": \"checkpoint_1\"\n",
       "  },\n",
       "  \"success\": true\n",
       "}"
      ]
     },
     "execution_count": 16,
     "metadata": {},
     "output_type": "execute_result"
    }
   ],
   "source": [
    "checkpoint_results"
   ]
  },
  {
   "cell_type": "markdown",
   "metadata": {},
   "source": [
    "### Was All successful?"
   ]
  },
  {
   "cell_type": "code",
   "execution_count": 17,
   "metadata": {},
   "outputs": [
    {
     "data": {
      "text/plain": [
       "True"
      ]
     },
     "execution_count": 17,
     "metadata": {},
     "output_type": "execute_result"
    }
   ],
   "source": [
    "checkpoint_results.success"
   ]
  },
  {
   "cell_type": "code",
   "execution_count": null,
   "metadata": {},
   "outputs": [],
   "source": []
  },
  {
   "cell_type": "code",
   "execution_count": null,
   "metadata": {},
   "outputs": [],
   "source": []
  }
 ],
 "metadata": {
  "kernelspec": {
   "display_name": "Python (wrangling)",
   "language": "python",
   "name": "wrangling"
  },
  "language_info": {
   "codemirror_mode": {
    "name": "ipython",
    "version": 3
   },
   "file_extension": ".py",
   "mimetype": "text/x-python",
   "name": "python",
   "nbconvert_exporter": "python",
   "pygments_lexer": "ipython3",
   "version": "3.9.7"
  }
 },
 "nbformat": 4,
 "nbformat_minor": 1
}
