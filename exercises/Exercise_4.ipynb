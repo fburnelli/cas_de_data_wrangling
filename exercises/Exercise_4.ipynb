{
 "cells": [
  {
   "cell_type": "markdown",
   "metadata": {
    "cell_id": "41166a5879694b318dc37928b56a6519",
    "deepnote_cell_type": "text-cell-p",
    "formattedRanges": [],
    "is_collapsed": false,
    "tags": []
   },
   "source": [
    "# CAS Data Engineering FHNW\n",
    "## Data Wrangling Module - Author F.Burnelli"
   ]
  },
  {
   "cell_type": "markdown",
   "metadata": {},
   "source": [
    "- Find Duplicates Rows Exact Match\n",
    "- Candidates duplicates\n",
    "  - After harmonisation\n",
    "  - similarity matches   "
   ]
  },
  {
   "cell_type": "markdown",
   "metadata": {
    "cell_id": "33aaa325d4584ed78d4dcf7cbab922f5",
    "deepnote_cell_type": "markdown",
    "tags": []
   },
   "source": [
    "### Exercise 4\n",
    "### Note:use the Kernek: \"Python (wrangling)\""
   ]
  },
  {
   "cell_type": "markdown",
   "metadata": {},
   "source": [
    "## Extract Data"
   ]
  },
  {
   "cell_type": "code",
   "execution_count": 1,
   "metadata": {
    "cell_id": "6e0772dfe0ca4f89b691b936d4a8fdda",
    "deepnote_cell_type": "code",
    "deepnote_to_be_reexecuted": false,
    "execution_millis": 214,
    "execution_start": 1678201589218,
    "scrolled": false,
    "source_hash": "4ddaa282",
    "tags": []
   },
   "outputs": [],
   "source": [
    "import pandas as pd\n",
    "import os\n",
    "import sys   \n",
    "# not exact match search\n",
    "from thefuzz import fuzz,process\n",
    "import difflib\n",
    "# regexp\n",
    "import re"
   ]
  },
  {
   "cell_type": "code",
   "execution_count": 2,
   "metadata": {
    "cell_id": "0445d6085a89409f807ec203e356cc7c",
    "deepnote_cell_type": "code",
    "deepnote_to_be_reexecuted": false,
    "execution_millis": 4991,
    "execution_start": 1678201572825,
    "scrolled": true,
    "source_hash": "ffc8110c",
    "tags": []
   },
   "outputs": [],
   "source": [
    "## Extract Data\n",
    "file_path = os.path.join(\"..\",\"data\", \"dirty-loan-data.csv\")\n",
    "\n",
    "\n",
    "df = pd.read_csv(file_path, low_memory=False)"
   ]
  },
  {
   "cell_type": "code",
   "execution_count": 3,
   "metadata": {},
   "outputs": [],
   "source": [
    "df = df[['emp_title']]\n",
    "df = df.dropna(subset=['emp_title'])"
   ]
  },
  {
   "cell_type": "code",
   "execution_count": 4,
   "metadata": {
    "scrolled": true
   },
   "outputs": [
    {
     "data": {
      "text/html": [
       "<div>\n",
       "<style scoped>\n",
       "    .dataframe tbody tr th:only-of-type {\n",
       "        vertical-align: middle;\n",
       "    }\n",
       "\n",
       "    .dataframe tbody tr th {\n",
       "        vertical-align: top;\n",
       "    }\n",
       "\n",
       "    .dataframe thead th {\n",
       "        text-align: right;\n",
       "    }\n",
       "</style>\n",
       "<table border=\"1\" class=\"dataframe\">\n",
       "  <thead>\n",
       "    <tr style=\"text-align: right;\">\n",
       "      <th></th>\n",
       "      <th>emp_title</th>\n",
       "    </tr>\n",
       "  </thead>\n",
       "  <tbody>\n",
       "    <tr>\n",
       "      <th>0</th>\n",
       "      <td>cognizant technology solutions</td>\n",
       "    </tr>\n",
       "    <tr>\n",
       "      <th>1</th>\n",
       "      <td>Anadarko Petroleum Corporation</td>\n",
       "    </tr>\n",
       "    <tr>\n",
       "      <th>2</th>\n",
       "      <td>Best Buy</td>\n",
       "    </tr>\n",
       "    <tr>\n",
       "      <th>4</th>\n",
       "      <td>Cardinal Health Stafford, Texas.</td>\n",
       "    </tr>\n",
       "    <tr>\n",
       "      <th>5</th>\n",
       "      <td>St. Rose San Martin</td>\n",
       "    </tr>\n",
       "    <tr>\n",
       "      <th>6</th>\n",
       "      <td>cardinal logistics</td>\n",
       "    </tr>\n",
       "    <tr>\n",
       "      <th>7</th>\n",
       "      <td>Lifecell</td>\n",
       "    </tr>\n",
       "    <tr>\n",
       "      <th>8</th>\n",
       "      <td>Herdman, Summers, and George, LLP</td>\n",
       "    </tr>\n",
       "    <tr>\n",
       "      <th>9</th>\n",
       "      <td>CNMI Government</td>\n",
       "    </tr>\n",
       "    <tr>\n",
       "      <th>10</th>\n",
       "      <td>TOGETHER WE GROW</td>\n",
       "    </tr>\n",
       "  </tbody>\n",
       "</table>\n",
       "</div>"
      ],
      "text/plain": [
       "                            emp_title\n",
       "0      cognizant technology solutions\n",
       "1      Anadarko Petroleum Corporation\n",
       "2                            Best Buy\n",
       "4    Cardinal Health Stafford, Texas.\n",
       "5                 St. Rose San Martin\n",
       "6                  cardinal logistics\n",
       "7                            Lifecell\n",
       "8   Herdman, Summers, and George, LLP\n",
       "9                     CNMI Government\n",
       "10                   TOGETHER WE GROW"
      ]
     },
     "execution_count": 4,
     "metadata": {},
     "output_type": "execute_result"
    }
   ],
   "source": [
    "df.head(10)"
   ]
  },
  {
   "cell_type": "markdown",
   "metadata": {},
   "source": [
    "### How many distinct values"
   ]
  },
  {
   "cell_type": "code",
   "execution_count": 5,
   "metadata": {},
   "outputs": [
    {
     "data": {
      "text/plain": [
       "10654"
      ]
     },
     "execution_count": 5,
     "metadata": {},
     "output_type": "execute_result"
    }
   ],
   "source": [
    "df['emp_title'].nunique()"
   ]
  },
  {
   "cell_type": "markdown",
   "metadata": {},
   "source": [
    "### Find Duplicates  (and remove)\n",
    "HINT duplicated().sum() ; .drop_duplicates()"
   ]
  },
  {
   "cell_type": "code",
   "execution_count": null,
   "metadata": {},
   "outputs": [],
   "source": []
  },
  {
   "cell_type": "code",
   "execution_count": null,
   "metadata": {},
   "outputs": [],
   "source": []
  },
  {
   "cell_type": "markdown",
   "metadata": {},
   "source": [
    "### Harmonise (and remove duplicated again)\n",
    "HINT  str.lower ; strip ; regexp or replace non alphanumerics"
   ]
  },
  {
   "cell_type": "code",
   "execution_count": 6,
   "metadata": {
    "scrolled": false
   },
   "outputs": [],
   "source": []
  },
  {
   "cell_type": "code",
   "execution_count": 7,
   "metadata": {},
   "outputs": [
    {
     "data": {
      "text/plain": [
       "9384"
      ]
     },
     "execution_count": 7,
     "metadata": {},
     "output_type": "execute_result"
    }
   ],
   "source": [
    "df['emp_title'].nunique()"
   ]
  },
  {
   "cell_type": "code",
   "execution_count": 9,
   "metadata": {
    "scrolled": true
   },
   "outputs": [
    {
     "data": {
      "text/html": [
       "<div>\n",
       "<style scoped>\n",
       "    .dataframe tbody tr th:only-of-type {\n",
       "        vertical-align: middle;\n",
       "    }\n",
       "\n",
       "    .dataframe tbody tr th {\n",
       "        vertical-align: top;\n",
       "    }\n",
       "\n",
       "    .dataframe thead th {\n",
       "        text-align: right;\n",
       "    }\n",
       "</style>\n",
       "<table border=\"1\" class=\"dataframe\">\n",
       "  <thead>\n",
       "    <tr style=\"text-align: right;\">\n",
       "      <th></th>\n",
       "      <th>emp_title</th>\n",
       "    </tr>\n",
       "  </thead>\n",
       "  <tbody>\n",
       "    <tr>\n",
       "      <th>0</th>\n",
       "      <td>cognizant technology solutions</td>\n",
       "    </tr>\n",
       "    <tr>\n",
       "      <th>1</th>\n",
       "      <td>anadarko petroleum corporation</td>\n",
       "    </tr>\n",
       "    <tr>\n",
       "      <th>2</th>\n",
       "      <td>best buy</td>\n",
       "    </tr>\n",
       "  </tbody>\n",
       "</table>\n",
       "</div>"
      ],
      "text/plain": [
       "                        emp_title\n",
       "0  cognizant technology solutions\n",
       "1  anadarko petroleum corporation\n",
       "2                        best buy"
      ]
     },
     "execution_count": 9,
     "metadata": {},
     "output_type": "execute_result"
    }
   ],
   "source": [
    "df.head(3)"
   ]
  },
  {
   "cell_type": "markdown",
   "metadata": {},
   "source": [
    "# Similarity Search\n"
   ]
  },
  {
   "cell_type": "markdown",
   "metadata": {},
   "source": [
    "#### How does thefuzz works?"
   ]
  },
  {
   "cell_type": "code",
   "execution_count": 58,
   "metadata": {
    "scrolled": false
   },
   "outputs": [
    {
     "data": {
      "text/plain": [
       "[('cognizant technology solutions', 100, 0),\n",
       " ('at&t', 68, 32),\n",
       " ('life technologies', 61, 57),\n",
       " ('u store it', 51, 44),\n",
       " ('southwire', 50, 70),\n",
       " ('southwest airlines', 47, 43),\n",
       " ('orly international', 47, 69),\n",
       " ('cardinal logistics', 46, 5),\n",
       " ('orgill inc.', 46, 72),\n",
       " ('zila inc.', 45, 17)]"
      ]
     },
     "execution_count": 58,
     "metadata": {},
     "output_type": "execute_result"
    }
   ],
   "source": [
    "process.extract(\"cognizant technology solutions\", df['emp_title'], limit = 10)"
   ]
  },
  {
   "cell_type": "markdown",
   "metadata": {},
   "source": [
    "### thefuzz process (NOTE: just first 100 rows ...)\n",
    "Find a useful treshold"
   ]
  },
  {
   "cell_type": "code",
   "execution_count": 16,
   "metadata": {
    "scrolled": true
   },
   "outputs": [
    {
     "name": "stdout",
     "output_type": "stream",
     "text": [
      "1 lpn 2 driver:drive (SCORE:90);driver (SCORE:90);lpn (SCORE:90);account 1 speciallist (SCORE:86);\n",
      "\n",
      "\n",
      "10:et level 10 (SCORE:90);gs10 (SCORE:90);peak 10 (SCORE:90);\n",
      "\n",
      "\n",
      "1st assistant manager:assistant manager (SCORE:95);assistant (SCORE:90);manage (SCORE:90);manager (SCORE:90);\n",
      "\n",
      "\n",
      "1st grade teachergrade level lead:teach (SCORE:90);teacher (SCORE:90);1st assistant manager (SCORE:86);1st sergeant (SCORE:86);\n",
      "\n",
      "\n",
      "1st sergeant:sergeant (SCORE:90);1st assistant manager (SCORE:86);1st grade teachergrade level lead (SCORE:86);correction s training sergeant (SCORE:86);\n",
      "\n",
      "\n",
      "21st century security:security (SCORE:90);armed security officer us federal bldgs (SCORE:86);building automated security technician (SCORE:86);clients security fund coordinator (SCORE:86);\n",
      "\n",
      "\n",
      "24 hour fitness:it (SCORE:90);la fitness (SCORE:86);us deparment of labor wage and hour di (SCORE:86);\n",
      "\n",
      "\n",
      "245 e realty corp:clp corp (SCORE:86);corp manager  finanial systems (SCORE:86);e line (SCORE:86);harris corp (SCORE:86);\n",
      "\n",
      "\n",
      "26726 crown vahead  and  neck associates:associate (SCORE:90);abercrombie and fitch (SCORE:86);armstreet associates llc (SCORE:86);at and t (SCORE:86);\n",
      "\n",
      "\n",
      "2nd class petty officer:cla (SCORE:90);office (SCORE:90);officer (SCORE:90);2nd engineer (SCORE:86);\n",
      "\n",
      "\n",
      "2nd class warehouseman:cla (SCORE:90);warehouse (SCORE:90);warehouseman (SCORE:90);2nd engineer (SCORE:86);\n",
      "\n",
      "\n",
      "2nd engineer:engineer (SCORE:90);front end engineer (SCORE:86);2nd class petty officer (SCORE:86);2nd class warehouseman (SCORE:86);\n",
      "\n",
      "\n",
      "2nd mate:ma (SCORE:90);mate (SCORE:90);2nd class petty officer (SCORE:86);2nd class warehouseman (SCORE:86);\n",
      "\n",
      "\n",
      "3d artist:ar (SCORE:90);graphic artist (SCORE:86);lead depth artist (SCORE:86);lead environment artist (SCORE:86);\n",
      "\n",
      "\n",
      "3m:3m company (SCORE:90);m (SCORE:90);\n",
      "\n",
      "\n",
      "3m company:3m (SCORE:90);co (SCORE:90);allstate insurance company (SCORE:86);alpha wire company (SCORE:86);\n",
      "\n",
      "\n",
      "529 senior associate:senior associate (SCORE:95);associate (SCORE:90);associate  servicing  surveillance (SCORE:86);associate director financial services (SCORE:86);\n",
      "\n",
      "\n",
      "7eleven inc:aa motorcoach inc (SCORE:86);abb inc (SCORE:86);accentcare of california inc (SCORE:86);advanced micro devices inc (SCORE:86);\n",
      "\n",
      "\n",
      "8008quality control:quality (SCORE:90);quality control (SCORE:88);air traffic control warch supervisor (SCORE:86);control  electrical technician (SCORE:86);\n",
      "\n",
      "\n",
      "911 dispatcher:dispatcher (SCORE:95);dispatch (SCORE:90);communications operator  911 (SCORE:86);emergency medical dispatcher (SCORE:86);\n",
      "\n",
      "\n"
     ]
    }
   ],
   "source": [
    "# Match\n",
    "TRESHOLD=80\n",
    "def matching(reference_string,values,limit=5,treshold=80):\n",
    "    #the fuzzy match\n",
    "    similarities = process.extract(reference_string, values, limit = limit)\n",
    "    matches= [item for item in similarities if treshold < item[1] < 100]\n",
    "    res = f\"{reference_string}:\"\n",
    "    for match in matches:\n",
    "        res = res + f\"{match[0]} (SCORE:{match[1]});\"\n",
    "    print(res)\n",
    "    print(\"\\n\")\n",
    "\n",
    "values = df['emp_title'].unique()\n",
    "values.sort()\n",
    "for value in values[0:100]:\n",
    "    matching(value,values,treshold=TRESHOLD)  \n"
   ]
  },
  {
   "cell_type": "markdown",
   "metadata": {},
   "source": [
    "### SequenceMatcher"
   ]
  },
  {
   "cell_type": "code",
   "execution_count": 17,
   "metadata": {},
   "outputs": [
    {
     "data": {
      "text/plain": [
       "64.28571428571429"
      ]
     },
     "execution_count": 17,
     "metadata": {},
     "output_type": "execute_result"
    }
   ],
   "source": [
    "matcher = difflib.SequenceMatcher(None,\"full_name_reordered\", \"full_name\")\n",
    "similarity_ratio = matcher.ratio() * 100\n",
    "similarity_ratio"
   ]
  },
  {
   "cell_type": "code",
   "execution_count": 24,
   "metadata": {
    "scrolled": false
   },
   "outputs": [
    {
     "name": "stdout",
     "output_type": "stream",
     "text": [
      "teacher teach 83.33333333333334\n",
      "teacher teachers 93.33333333333333\n"
     ]
    }
   ],
   "source": [
    "def matching(reference_string,values):\n",
    "    for value in values:\n",
    "        matcher = difflib.SequenceMatcher(None,reference_string,value)\n",
    "        score = matcher.ratio() * 100\n",
    "        if 100 > score > 80  :\n",
    "                print(reference_string,value,score)\n",
    "        \n",
    "values = df['emp_title'].unique()\n",
    "values.sort()\n",
    "for value in [\"teacher\"]:# values[0:100]:\n",
    "    matching(value,values)"
   ]
  },
  {
   "cell_type": "markdown",
   "metadata": {},
   "source": [
    "### Business \n",
    "Sometimes business rules can helps ,\n",
    "- is RN actually REGISTERED NURSE?\n",
    "- should we just generalise \"manager\" role?"
   ]
  },
  {
   "cell_type": "code",
   "execution_count": 23,
   "metadata": {},
   "outputs": [
    {
     "data": {
      "text/plain": [
       "emp_title\n",
       "teacher             341\n",
       "manager             297\n",
       "registered nurse    171\n",
       "owner               152\n",
       "rn                  142\n",
       "supervisor          131\n",
       "driver              126\n",
       "office manager      113\n",
       "sales               107\n",
       "general manager      94\n",
       "Name: count, dtype: int64"
      ]
     },
     "execution_count": 23,
     "metadata": {},
     "output_type": "execute_result"
    }
   ],
   "source": [
    "df['emp_title'].value_counts().head(10)"
   ]
  },
  {
   "cell_type": "code",
   "execution_count": 25,
   "metadata": {},
   "outputs": [
    {
     "data": {
      "text/plain": [
       "407"
      ]
     },
     "execution_count": 25,
     "metadata": {},
     "output_type": "execute_result"
    }
   ],
   "source": []
  },
  {
   "cell_type": "code",
   "execution_count": null,
   "metadata": {},
   "outputs": [],
   "source": []
  }
 ],
 "metadata": {
  "deepnote": {},
  "deepnote_execution_queue": [],
  "deepnote_notebook_id": "6fa25ac5da5241fb9c796c3631629c1b",
  "deepnote_persisted_session": {
   "createdAt": "2023-03-07T15:33:16.428Z"
  },
  "kernelspec": {
   "display_name": "Python (wrangling)",
   "language": "python",
   "name": "wrangling"
  },
  "language_info": {
   "codemirror_mode": {
    "name": "ipython",
    "version": 3
   },
   "file_extension": ".py",
   "mimetype": "text/x-python",
   "name": "python",
   "nbconvert_exporter": "python",
   "pygments_lexer": "ipython3",
   "version": "3.9.7"
  }
 },
 "nbformat": 4,
 "nbformat_minor": 1
}
