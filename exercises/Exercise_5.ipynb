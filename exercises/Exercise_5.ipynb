{
 "cells": [
  {
   "cell_type": "markdown",
   "metadata": {},
   "source": [
    "# CAS Data Engineering FHNW\n",
    "## Data Wrangling Module - Author F.Burnelli\n"
   ]
  },
  {
   "cell_type": "markdown",
   "metadata": {},
   "source": [
    "### Exercise 5 Consistency and Data Protection\n",
    "### Note:use the Kernel: \"Python (wrangling)\""
   ]
  },
  {
   "cell_type": "code",
   "execution_count": 192,
   "metadata": {},
   "outputs": [],
   "source": [
    "import pandas as pd\n",
    "import os\n",
    "from datetime import datetime, timedelta\n",
    "import warnings\n",
    "warnings.filterwarnings(\"ignore\", category=UserWarning, module=\"diffprivlib\")\n",
    "\n",
    "import hmac\n",
    "import hashlib\n",
    "import numpy as np\n",
    "from faker import Faker\n",
    "import random\n",
    "from diffprivlib import BudgetAccountant,tools\n"
   ]
  },
  {
   "cell_type": "markdown",
   "metadata": {},
   "source": [
    "### Read Data"
   ]
  },
  {
   "cell_type": "code",
   "execution_count": 3,
   "metadata": {},
   "outputs": [],
   "source": [
    "file_path = os.path.join(\"..\",\"data\", \"dirty-loan-data.csv\")\n",
    "df = pd.read_csv(file_path,low_memory = False)\n",
    "\n"
   ]
  },
  {
   "cell_type": "markdown",
   "metadata": {},
   "source": [
    "## Integrity"
   ]
  },
  {
   "cell_type": "markdown",
   "metadata": {},
   "source": [
    "### Data Types: Convert to date last_pymnt_d\n",
    "HINT: to_datetime & format='%b-%Y' "
   ]
  },
  {
   "cell_type": "code",
   "execution_count": 11,
   "metadata": {
    "scrolled": true
   },
   "outputs": [
    {
     "data": {
      "text/plain": [
       "0    Jan-2015\n",
       "1    Jan-2016\n",
       "2    Sep-2015\n",
       "Name: last_pymnt_d, dtype: object"
      ]
     },
     "execution_count": 11,
     "metadata": {},
     "output_type": "execute_result"
    }
   ],
   "source": [
    "df.last_pymnt_d.head(3)"
   ]
  },
  {
   "cell_type": "code",
   "execution_count": 10,
   "metadata": {
    "scrolled": true
   },
   "outputs": [
    {
     "data": {
      "text/plain": [
       "0       2015-01-01\n",
       "1       2016-01-01\n",
       "2       2015-09-01\n",
       "3       2014-01-01\n",
       "4       2012-11-01\n",
       "           ...    \n",
       "17842   2013-06-01\n",
       "17843   2014-05-01\n",
       "17844   2013-04-01\n",
       "17845   2014-11-01\n",
       "17846   2014-11-01\n",
       "Name: last_pymnt_d, Length: 17847, dtype: datetime64[ns]"
      ]
     },
     "execution_count": 10,
     "metadata": {},
     "output_type": "execute_result"
    }
   ],
   "source": []
  },
  {
   "cell_type": "markdown",
   "metadata": {},
   "source": [
    "### What to do here?"
   ]
  },
  {
   "cell_type": "code",
   "execution_count": 12,
   "metadata": {},
   "outputs": [
    {
     "data": {
      "text/plain": [
       "0     5 years\n",
       "1    < 1 year\n",
       "2     5 years\n",
       "3     6 years\n",
       "4     3 years\n",
       "Name: emp_length, dtype: object"
      ]
     },
     "execution_count": 12,
     "metadata": {},
     "output_type": "execute_result"
    }
   ],
   "source": [
    "df.emp_length.head(5)"
   ]
  },
  {
   "cell_type": "markdown",
   "metadata": {},
   "source": [
    "## Consistency"
   ]
  },
  {
   "cell_type": "markdown",
   "metadata": {},
   "source": [
    "### Inconsistent categories"
   ]
  },
  {
   "cell_type": "markdown",
   "metadata": {},
   "source": [
    "### Golden Reference / Authoritative Set\n",
    "df['purpose'].unique().tolist()"
   ]
  },
  {
   "cell_type": "markdown",
   "metadata": {},
   "source": [
    "### Suppose the Golden Reference is given"
   ]
  },
  {
   "cell_type": "code",
   "execution_count": 29,
   "metadata": {},
   "outputs": [],
   "source": [
    "golden_reference_categories = ['debt_consolidation',\n",
    " 'credit_card',\n",
    " 'home_improvement',\n",
    " 'other',\n",
    " 'major_purchase',\n",
    " 'car',\n",
    " 'small_business',\n",
    " 'medical',\n",
    " 'moving',\n",
    " 'vacation']"
   ]
  },
  {
   "cell_type": "markdown",
   "metadata": {},
   "source": [
    "### Please Implement below function to identify values in df that are not in the golden_reference_categories\n"
   ]
  },
  {
   "cell_type": "code",
   "execution_count": 30,
   "metadata": {},
   "outputs": [],
   "source": [
    "def find_inconsistent_categories(df,col,reference_categories):\n",
    "    \"\"\" Find Inconsisten categories \n",
    "        Parameters:\n",
    "        -----------\n",
    "        df : pandas.DataFrame\n",
    "        The input DataFrame to analyze \n",
    "        Returns:\n",
    "        --------\n",
    "        List of Columns name\n",
    "    \"\"\"\n",
    "    "
   ]
  },
  {
   "cell_type": "markdown",
   "metadata": {},
   "source": [
    "###       Execute it for \"purpose\": Which categories are not ok??"
   ]
  },
  {
   "cell_type": "code",
   "execution_count": null,
   "metadata": {},
   "outputs": [],
   "source": [
    "find_inconsistent_categories(df,'purpose',golden_reference_categories)"
   ]
  },
  {
   "cell_type": "markdown",
   "metadata": {},
   "source": [
    "## Pseudoanonymisation"
   ]
  },
  {
   "cell_type": "markdown",
   "metadata": {},
   "source": [
    "### Simple obfuscation: Masking with RegExp"
   ]
  },
  {
   "cell_type": "code",
   "execution_count": 37,
   "metadata": {
    "scrolled": false
   },
   "outputs": [
    {
     "data": {
      "text/plain": [
       "0    http*\n",
       "1    http*\n",
       "2    http*\n",
       "3    http*\n",
       "4    http*\n",
       "Name: url, dtype: object"
      ]
     },
     "execution_count": 37,
     "metadata": {},
     "output_type": "execute_result"
    }
   ],
   "source": [
    "df['url'].str.replace(r'(?<=^.{4}).*', '*', regex=True).head(5)\n"
   ]
  },
  {
   "cell_type": "markdown",
   "metadata": {},
   "source": [
    "### Examples of Python Packages"
   ]
  },
  {
   "cell_type": "markdown",
   "metadata": {},
   "source": [
    "### Anonymizedf"
   ]
  },
  {
   "cell_type": "code",
   "execution_count": 40,
   "metadata": {},
   "outputs": [],
   "source": [
    "from anonymizedf.anonymizedf import anonymize\n"
   ]
  },
  {
   "cell_type": "code",
   "execution_count": 56,
   "metadata": {},
   "outputs": [],
   "source": [
    "an = anonymize(df[['id','loan_amnt','funded_amnt','purpose']].head(10))\n",
    "\n"
   ]
  },
  {
   "cell_type": "code",
   "execution_count": 62,
   "metadata": {
    "scrolled": false
   },
   "outputs": [
    {
     "data": {
      "text/html": [
       "<div>\n",
       "<style scoped>\n",
       "    .dataframe tbody tr th:only-of-type {\n",
       "        vertical-align: middle;\n",
       "    }\n",
       "\n",
       "    .dataframe tbody tr th {\n",
       "        vertical-align: top;\n",
       "    }\n",
       "\n",
       "    .dataframe thead th {\n",
       "        text-align: right;\n",
       "    }\n",
       "</style>\n",
       "<table border=\"1\" class=\"dataframe\">\n",
       "  <thead>\n",
       "    <tr style=\"text-align: right;\">\n",
       "      <th></th>\n",
       "      <th>id</th>\n",
       "      <th>loan_amnt</th>\n",
       "      <th>funded_amnt</th>\n",
       "      <th>purpose</th>\n",
       "      <th>Fake_id</th>\n",
       "      <th>Fake_purpose</th>\n",
       "    </tr>\n",
       "  </thead>\n",
       "  <tbody>\n",
       "    <tr>\n",
       "      <th>0</th>\n",
       "      <td>1069453</td>\n",
       "      <td>11000.0</td>\n",
       "      <td>11000.0</td>\n",
       "      <td>debt_consolidation</td>\n",
       "      <td>CEHF34821073307765</td>\n",
       "      <td>purpose 1</td>\n",
       "    </tr>\n",
       "    <tr>\n",
       "      <th>1</th>\n",
       "      <td>1067874</td>\n",
       "      <td>6000.0</td>\n",
       "      <td>6000.0</td>\n",
       "      <td>major_purchase</td>\n",
       "      <td>ZUGJ28999336352372</td>\n",
       "      <td>purpose 2</td>\n",
       "    </tr>\n",
       "    <tr>\n",
       "      <th>2</th>\n",
       "      <td>1057633</td>\n",
       "      <td>8450.0</td>\n",
       "      <td>8450.0</td>\n",
       "      <td>debt_consolidation</td>\n",
       "      <td>QBJW67050686087225</td>\n",
       "      <td>purpose 1</td>\n",
       "    </tr>\n",
       "    <tr>\n",
       "      <th>3</th>\n",
       "      <td>1061877</td>\n",
       "      <td>20000.0</td>\n",
       "      <td>20000.0</td>\n",
       "      <td>debt_consolidation</td>\n",
       "      <td>BQRE43672669800389</td>\n",
       "      <td>purpose 1</td>\n",
       "    </tr>\n",
       "    <tr>\n",
       "      <th>4</th>\n",
       "      <td>1056150</td>\n",
       "      <td>13200.0</td>\n",
       "      <td>8975.0</td>\n",
       "      <td>small_business</td>\n",
       "      <td>MQQA27892501726194</td>\n",
       "      <td>purpose 3</td>\n",
       "    </tr>\n",
       "    <tr>\n",
       "      <th>5</th>\n",
       "      <td>1065026</td>\n",
       "      <td>8000.0</td>\n",
       "      <td>8000.0</td>\n",
       "      <td>credit_card</td>\n",
       "      <td>LSAR71942003347551</td>\n",
       "      <td>purpose 4</td>\n",
       "    </tr>\n",
       "    <tr>\n",
       "      <th>6</th>\n",
       "      <td>1065199</td>\n",
       "      <td>3500.0</td>\n",
       "      <td>3500.0</td>\n",
       "      <td>debt_consolidation</td>\n",
       "      <td>KDGK49143861004070</td>\n",
       "      <td>purpose 1</td>\n",
       "    </tr>\n",
       "    <tr>\n",
       "      <th>7</th>\n",
       "      <td>1064567</td>\n",
       "      <td>12000.0</td>\n",
       "      <td>12000.0</td>\n",
       "      <td>debt_consolidation</td>\n",
       "      <td>CXVE33595273303499</td>\n",
       "      <td>purpose 1</td>\n",
       "    </tr>\n",
       "    <tr>\n",
       "      <th>8</th>\n",
       "      <td>1062032</td>\n",
       "      <td>4000.0</td>\n",
       "      <td>4000.0</td>\n",
       "      <td>credit_card</td>\n",
       "      <td>BZFH41872087171414</td>\n",
       "      <td>purpose 4</td>\n",
       "    </tr>\n",
       "    <tr>\n",
       "      <th>9</th>\n",
       "      <td>988402</td>\n",
       "      <td>18500.0</td>\n",
       "      <td>15775.0</td>\n",
       "      <td>debt_consolidation</td>\n",
       "      <td>LDFJ77818009338382</td>\n",
       "      <td>purpose 1</td>\n",
       "    </tr>\n",
       "  </tbody>\n",
       "</table>\n",
       "</div>"
      ],
      "text/plain": [
       "        id  loan_amnt  funded_amnt             purpose             Fake_id  \\\n",
       "0  1069453    11000.0      11000.0  debt_consolidation  CEHF34821073307765   \n",
       "1  1067874     6000.0       6000.0      major_purchase  ZUGJ28999336352372   \n",
       "2  1057633     8450.0       8450.0  debt_consolidation  QBJW67050686087225   \n",
       "3  1061877    20000.0      20000.0  debt_consolidation  BQRE43672669800389   \n",
       "4  1056150    13200.0       8975.0      small_business  MQQA27892501726194   \n",
       "5  1065026     8000.0       8000.0         credit_card  LSAR71942003347551   \n",
       "6  1065199     3500.0       3500.0  debt_consolidation  KDGK49143861004070   \n",
       "7  1064567    12000.0      12000.0  debt_consolidation  CXVE33595273303499   \n",
       "8  1062032     4000.0       4000.0         credit_card  BZFH41872087171414   \n",
       "9   988402    18500.0      15775.0  debt_consolidation  LDFJ77818009338382   \n",
       "\n",
       "  Fake_purpose  \n",
       "0    purpose 1  \n",
       "1    purpose 2  \n",
       "2    purpose 1  \n",
       "3    purpose 1  \n",
       "4    purpose 3  \n",
       "5    purpose 4  \n",
       "6    purpose 1  \n",
       "7    purpose 1  \n",
       "8    purpose 4  \n",
       "9    purpose 1  "
      ]
     },
     "execution_count": 62,
     "metadata": {},
     "output_type": "execute_result"
    }
   ],
   "source": [
    "an_df = (\n",
    "    an\n",
    "    .fake_ids(\"id\", chaining=True)\n",
    "    .fake_categories(\"purpose\", chaining=True)\n",
    "    .show_data_frame()\n",
    ")\n",
    "fake_df"
   ]
  },
  {
   "cell_type": "markdown",
   "metadata": {},
   "source": [
    "#### How would you use it in PROD?\n",
    "- Delete original Columns?\n",
    "- Save such info as a mapping CSV for the future?\n",
    "- Is it reproducible?"
   ]
  },
  {
   "cell_type": "markdown",
   "metadata": {},
   "source": [
    "### hmac,hashlib"
   ]
  },
  {
   "cell_type": "markdown",
   "metadata": {},
   "source": [
    "#### First define a private key that will be separately and securely stored\n",
    "#### Private Keys must not be stored in github repo!"
   ]
  },
  {
   "cell_type": "code",
   "execution_count": 70,
   "metadata": {},
   "outputs": [],
   "source": [
    "private_key = os.urandom(24)"
   ]
  },
  {
   "cell_type": "code",
   "execution_count": 75,
   "metadata": {},
   "outputs": [],
   "source": [
    "def anonymize(value, private_key):\n",
    "    value_bytes = str(value).encode('utf-8')\n",
    "    private_key_bytes = str(private_key).encode('utf-8')\n",
    "    hash_object = hmac.new(private_key_bytes, value_bytes, hashlib.sha256)\n",
    "    hashed_member_id = hash_object.hexdigest()\n",
    "    return hashed_member_id"
   ]
  },
  {
   "cell_type": "code",
   "execution_count": 76,
   "metadata": {
    "scrolled": true
   },
   "outputs": [
    {
     "name": "stdout",
     "output_type": "stream",
     "text": [
      "Original Member ID: 1303701\n",
      "Anonymized Member ID: bb941373989a5af14d128a5d63bebec99f944166bdb17c7e62812a41ef30d166\n"
     ]
    }
   ],
   "source": [
    "original_member_id = 1303701\n",
    "anonymized_member_id = anonymize(original_member_id, private_key)\n",
    "\n",
    "print(f\"Original Member ID: {original_member_id}\")\n",
    "print(f\"Anonymized Member ID: {anonymized_member_id}\")"
   ]
  },
  {
   "cell_type": "markdown",
   "metadata": {},
   "source": [
    "### Generate Synthetic Data"
   ]
  },
  {
   "cell_type": "code",
   "execution_count": 121,
   "metadata": {
    "scrolled": false
   },
   "outputs": [
    {
     "name": "stdout",
     "output_type": "stream",
     "text": [
      "Joris Bianchi Coredo 14, chemin de Vaillant\n",
      "54114 Sainte Nath-sur-Mer 1950-02-17 ulrichluscher@wagner.info\n",
      "Heather Davis La Chaux-de-Fonds Piazza Veneziano, 63\n",
      "43056, San Polo (PR) 1982-04-08 ssiffredi@nolcini-vergerio.net\n",
      "Gani Hofstetter Michaud Eggerstrasse 83\n",
      "9661 Affoltern 2006-09-13 suzannesiegrist@iten.com\n",
      "Zoran Stettler Costa Sant'Abramo Borgo Giacobbe, 53\n",
      "28818, Premeno (VB) 2007-01-17 wolfgang15@schlatter-hermann.com\n",
      "Felix Vogt Vico Del Gargano Forsterstrasse 2\n",
      "1602 Locarno 1967-03-21 natashascherrer@tanner.com\n",
      "Carmen Mcdaniel BourgeoisBourg 9, chemin de Caron\n",
      "91890 Vasseur-la-Forêt 1970-02-12 dinabenz@jenni.com\n",
      "Peggy Foley Gros Rothstrasse 51\n",
      "6925 Stäfa 1954-06-17 kwenger@siegrist.com\n",
      "Yvonne Schneider Villa San Faustino Kesslerstrasse 48\n",
      "2580 Thun 1984-12-31 mathieuaugustin@morin.com\n",
      "István Ackermann Leblanc 504, boulevard de Imbert\n",
      "65115 Maillet 1992-09-05 nguyenbenoit@bruneau.com\n",
      "Yael Benz Palma Campania 31, rue de Allard\n",
      "55990 Colas 1957-03-18 xgoldstein@fracci.com\n"
     ]
    }
   ],
   "source": [
    "synthetic_data = Faker(['fr_CH', 'de_CH', 'it_CH']) \n",
    "for _ in range(10):\n",
    "    name = synthetic_data.name_male() if random.choice([True, False]) else synthetic_data.name_female()\n",
    "    city = syntetic_data.city()\n",
    "    address = syntetic_data.address()\n",
    "    email = syntetic_data.company_email()\n",
    "    current_year = datetime.now().year\n",
    "    \n",
    "    age = random.randint(18, 90)\n",
    "    current_year = datetime.now().year\n",
    "    start_date = f\"-{str(age)}y\"\n",
    "    end_date = f\"-{str(age-1)}y\"\n",
    "    \n",
    "    birthdate = synthetic_data.date_between(start_date=start_date, end_date=end_date)\n",
    "    print(name,city,address,birthdate,email)"
   ]
  },
  {
   "cell_type": "code",
   "execution_count": 93,
   "metadata": {
    "scrolled": true
   },
   "outputs": [
    {
     "data": {
      "text/plain": [
       "'soto.net'"
      ]
     },
     "execution_count": 93,
     "metadata": {},
     "output_type": "execute_result"
    }
   ],
   "source": [
    "synthetic_data.domain_name()"
   ]
  },
  {
   "cell_type": "code",
   "execution_count": 129,
   "metadata": {
    "scrolled": false
   },
   "outputs": [
    {
     "data": {
      "text/plain": [
       "'VISA 16 digit\\nDana Campbell\\n4452755178802348 11/31\\nCVC: 857\\n'"
      ]
     },
     "execution_count": 129,
     "metadata": {},
     "output_type": "execute_result"
    }
   ],
   "source": [
    "synthetic_data.credit_card_full()"
   ]
  },
  {
   "cell_type": "markdown",
   "metadata": {},
   "source": [
    "### Generate categorical dats with the same distribution"
   ]
  },
  {
   "cell_type": "code",
   "execution_count": 102,
   "metadata": {
    "scrolled": true
   },
   "outputs": [
    {
     "name": "stdout",
     "output_type": "stream",
     "text": [
      "['D' 'C' 'A' 'B' 'C' 'C' 'C' 'C' 'E' 'C' 'B' 'E' 'D' 'B' 'A' 'C' 'B' 'B'\n",
      " 'A' 'B' 'C' 'B' 'C' 'E' 'B' 'C' 'C' 'A' 'B' 'C' 'E' 'A' 'A' 'C' 'E' 'E'\n",
      " 'B' 'C' 'D' 'B' 'A' 'C' 'B' 'C' 'B' 'C' 'C' 'E' 'E' 'E' 'C' 'A' 'B' 'A'\n",
      " 'E' 'D' 'C' 'E' 'D' 'B' 'A' 'C' 'A' 'E' 'B' 'C' 'B' 'C' 'C' 'D' 'B' 'G'\n",
      " 'B' 'B' 'C' 'B' 'D' 'D' 'B' 'C' 'C' 'B' 'F' 'C' 'C' 'D' 'C' 'C' 'D' 'B'\n",
      " 'D' 'C' 'C' 'A' 'A' 'B' 'E' 'F' 'D' 'E']\n"
     ]
    }
   ],
   "source": [
    "col='grade'\n",
    "value_counts = df[col].value_counts(normalize=True)\n",
    "values = value_counts.index.values\n",
    "probabilities = value_counts.values\n",
    "samples = np.random.choice(values, size=100, p=probabilities)\n",
    "\n",
    "print(samples)\n"
   ]
  },
  {
   "cell_type": "markdown",
   "metadata": {},
   "source": [
    "### Differential privacy"
   ]
  },
  {
   "cell_type": "code",
   "execution_count": 193,
   "metadata": {
    "scrolled": false
   },
   "outputs": [],
   "source": [
    "## Set the Epsilon \n",
    "epsilon=0.1\n",
    "## Column for analysis\n",
    "column=\"loan_amnt\"\n",
    "\n"
   ]
  },
  {
   "cell_type": "markdown",
   "metadata": {},
   "source": [
    "### NOT anoymised data"
   ]
  },
  {
   "cell_type": "code",
   "execution_count": 194,
   "metadata": {},
   "outputs": [],
   "source": [
    "counts, bins_n = np.histogram(df[column])\n",
    "proportions_n = counts / counts.sum()\n"
   ]
  },
  {
   "cell_type": "markdown",
   "metadata": {},
   "source": [
    "### Anoymised data"
   ]
  },
  {
   "cell_type": "code",
   "execution_count": 195,
   "metadata": {
    "scrolled": true
   },
   "outputs": [
    {
     "name": "stderr",
     "output_type": "stream",
     "text": [
      "/Users/coding/anaconda3/envs/wrangling/lib/python3.9/site-packages/diffprivlib/tools/histograms.py:137: PrivacyLeakWarning: Range parameter has not been specified. Falling back to taking range from the data.\n",
      "To ensure differential privacy, and no additional privacy leakage, the range must be specified independently of the data (i.e., using domain knowledge).\n",
      "  warnings.warn(\"Range parameter has not been specified. Falling back to taking range from the data.\\n\"\n"
     ]
    }
   ],
   "source": [
    "counts,bins_a = diffprivlib.tools.histogram(df[column],epsilon=epsilon)\n",
    "proportions_a = counts / counts.sum()"
   ]
  },
  {
   "cell_type": "markdown",
   "metadata": {},
   "source": [
    "### Plot side by side with or without Diff privacy\n",
    "### Try Higher Epsilon reduce randomness \n"
   ]
  },
  {
   "cell_type": "code",
   "execution_count": 196,
   "metadata": {
    "scrolled": false
   },
   "outputs": [
    {
     "data": {
      "image/png": "[encoded data removed]",
      "text/plain": [
       "<Figure size 1200x600 with 1 Axes>"
      ]
     },
     "metadata": {},
     "output_type": "display_data"
    }
   ],
   "source": [
    "plt.figure(figsize=(12, 6))\n",
    "\n",
    "plt.bar(bins_n[:-1], proportions_n, width=np.diff(bins_n) * 0.4, alpha=0.5, label='Original Data', align='center')\n",
    "plt.bar(bins_a[:-1] + np.diff(bins_a) * 0.4, proportions_a, width=np.diff(bins_a) * 0.4, alpha=0.5, label='Differentially Private Data', align='center')\n",
    "\n",
    "plt.xlabel('Value')\n",
    "plt.ylabel('Proportion')\n",
    "plt.title('Histogram Comparison: Original vs Differentially Private Data')\n",
    "plt.legend()\n",
    "plt.show()"
   ]
  },
  {
   "cell_type": "code",
   "execution_count": null,
   "metadata": {},
   "outputs": [],
   "source": []
  },
  {
   "cell_type": "markdown",
   "metadata": {},
   "source": [
    "### Budget for Privacy"
   ]
  },
  {
   "cell_type": "code",
   "execution_count": 201,
   "metadata": {},
   "outputs": [],
   "source": [
    "accountant = BudgetAccountant(epsilon=1)"
   ]
  },
  {
   "cell_type": "code",
   "execution_count": 202,
   "metadata": {
    "scrolled": true
   },
   "outputs": [
    {
     "name": "stdout",
     "output_type": "stream",
     "text": [
      "loan_amnt Mean: 14737.593152910853\n",
      "14692.886606577844\n",
      "14749.04825643691\n",
      "14726.051567245908\n",
      "14716.364802701213\n",
      "14772.181864268385\n",
      "14766.693941569085\n",
      "14737.033105044376\n",
      "14738.708447976105\n",
      "14719.943851097643\n",
      "14749.662653376918\n",
      "loan_amnt Mean: 14736.85750962944\n"
     ]
    },
    {
     "name": "stderr",
     "output_type": "stream",
     "text": [
      "/Users/coding/anaconda3/envs/wrangling/lib/python3.9/site-packages/diffprivlib/tools/utils.py:276: PrivacyLeakWarning: Bounds have not been specified and will be calculated on the data provided. This will result in additional privacy leakage. To ensure differential privacy and no additional privacy leakage, specify bounds for each dimension.\n",
      "  warnings.warn(\"Bounds have not been specified and will be calculated on the data provided. This will \"\n",
      "/Users/coding/anaconda3/envs/wrangling/lib/python3.9/site-packages/diffprivlib/tools/utils.py:276: PrivacyLeakWarning: Bounds have not been specified and will be calculated on the data provided. This will result in additional privacy leakage. To ensure differential privacy and no additional privacy leakage, specify bounds for each dimension.\n",
      "  warnings.warn(\"Bounds have not been specified and will be calculated on the data provided. This will \"\n",
      "/Users/coding/anaconda3/envs/wrangling/lib/python3.9/site-packages/diffprivlib/tools/utils.py:276: PrivacyLeakWarning: Bounds have not been specified and will be calculated on the data provided. This will result in additional privacy leakage. To ensure differential privacy and no additional privacy leakage, specify bounds for each dimension.\n",
      "  warnings.warn(\"Bounds have not been specified and will be calculated on the data provided. This will \"\n",
      "/Users/coding/anaconda3/envs/wrangling/lib/python3.9/site-packages/diffprivlib/tools/utils.py:276: PrivacyLeakWarning: Bounds have not been specified and will be calculated on the data provided. This will result in additional privacy leakage. To ensure differential privacy and no additional privacy leakage, specify bounds for each dimension.\n",
      "  warnings.warn(\"Bounds have not been specified and will be calculated on the data provided. This will \"\n",
      "/Users/coding/anaconda3/envs/wrangling/lib/python3.9/site-packages/diffprivlib/tools/utils.py:276: PrivacyLeakWarning: Bounds have not been specified and will be calculated on the data provided. This will result in additional privacy leakage. To ensure differential privacy and no additional privacy leakage, specify bounds for each dimension.\n",
      "  warnings.warn(\"Bounds have not been specified and will be calculated on the data provided. This will \"\n",
      "/Users/coding/anaconda3/envs/wrangling/lib/python3.9/site-packages/diffprivlib/tools/utils.py:276: PrivacyLeakWarning: Bounds have not been specified and will be calculated on the data provided. This will result in additional privacy leakage. To ensure differential privacy and no additional privacy leakage, specify bounds for each dimension.\n",
      "  warnings.warn(\"Bounds have not been specified and will be calculated on the data provided. This will \"\n",
      "/Users/coding/anaconda3/envs/wrangling/lib/python3.9/site-packages/diffprivlib/tools/utils.py:276: PrivacyLeakWarning: Bounds have not been specified and will be calculated on the data provided. This will result in additional privacy leakage. To ensure differential privacy and no additional privacy leakage, specify bounds for each dimension.\n",
      "  warnings.warn(\"Bounds have not been specified and will be calculated on the data provided. This will \"\n",
      "/Users/coding/anaconda3/envs/wrangling/lib/python3.9/site-packages/diffprivlib/tools/utils.py:276: PrivacyLeakWarning: Bounds have not been specified and will be calculated on the data provided. This will result in additional privacy leakage. To ensure differential privacy and no additional privacy leakage, specify bounds for each dimension.\n",
      "  warnings.warn(\"Bounds have not been specified and will be calculated on the data provided. This will \"\n",
      "/Users/coding/anaconda3/envs/wrangling/lib/python3.9/site-packages/diffprivlib/tools/utils.py:276: PrivacyLeakWarning: Bounds have not been specified and will be calculated on the data provided. This will result in additional privacy leakage. To ensure differential privacy and no additional privacy leakage, specify bounds for each dimension.\n",
      "  warnings.warn(\"Bounds have not been specified and will be calculated on the data provided. This will \"\n",
      "/Users/coding/anaconda3/envs/wrangling/lib/python3.9/site-packages/diffprivlib/tools/utils.py:276: PrivacyLeakWarning: Bounds have not been specified and will be calculated on the data provided. This will result in additional privacy leakage. To ensure differential privacy and no additional privacy leakage, specify bounds for each dimension.\n",
      "  warnings.warn(\"Bounds have not been specified and will be calculated on the data provided. This will \"\n"
     ]
    }
   ],
   "source": [
    "print(f\"{column} Mean: {df[column].mean()}\")\n",
    "diff_avg = 0\n",
    "iterations = 10\n",
    "for i in range(iterations):\n",
    "    avg = tools.mean(df[column],epsilon=epsilon,accountant=accountant)\n",
    "    print(avg)\n",
    "    diff_avg = diff_avg + avg\n",
    "\n",
    "print(f\"{column} Mean: {diff_avg/iterations}\")\n"
   ]
  },
  {
   "cell_type": "code",
   "execution_count": 207,
   "metadata": {
    "scrolled": true
   },
   "outputs": [
    {
     "name": "stdout",
     "output_type": "stream",
     "text": [
      "BudgetError caught: Privacy spend of (0.1,0) not permissible; will exceed remaining privacy budget. Use BudgetAccountant.remaining() to check remaining budget.\n",
      "BudgetError caught: Privacy spend of (0.1,0) not permissible; will exceed remaining privacy budget. Use BudgetAccountant.remaining() to check remaining budget.\n",
      "BudgetError caught: Privacy spend of (0.1,0) not permissible; will exceed remaining privacy budget. Use BudgetAccountant.remaining() to check remaining budget.\n",
      "BudgetError caught: Privacy spend of (0.1,0) not permissible; will exceed remaining privacy budget. Use BudgetAccountant.remaining() to check remaining budget.\n",
      "BudgetError caught: Privacy spend of (0.1,0) not permissible; will exceed remaining privacy budget. Use BudgetAccountant.remaining() to check remaining budget.\n",
      "BudgetError caught: Privacy spend of (0.1,0) not permissible; will exceed remaining privacy budget. Use BudgetAccountant.remaining() to check remaining budget.\n",
      "BudgetError caught: Privacy spend of (0.1,0) not permissible; will exceed remaining privacy budget. Use BudgetAccountant.remaining() to check remaining budget.\n",
      "BudgetError caught: Privacy spend of (0.1,0) not permissible; will exceed remaining privacy budget. Use BudgetAccountant.remaining() to check remaining budget.\n",
      "BudgetError caught: Privacy spend of (0.1,0) not permissible; will exceed remaining privacy budget. Use BudgetAccountant.remaining() to check remaining budget.\n",
      "BudgetError caught: Privacy spend of (0.1,0) not permissible; will exceed remaining privacy budget. Use BudgetAccountant.remaining() to check remaining budget.\n"
     ]
    },
    {
     "name": "stderr",
     "output_type": "stream",
     "text": [
      "/Users/coding/anaconda3/envs/wrangling/lib/python3.9/site-packages/diffprivlib/tools/utils.py:276: PrivacyLeakWarning: Bounds have not been specified and will be calculated on the data provided. This will result in additional privacy leakage. To ensure differential privacy and no additional privacy leakage, specify bounds for each dimension.\n",
      "  warnings.warn(\"Bounds have not been specified and will be calculated on the data provided. This will \"\n",
      "/Users/coding/anaconda3/envs/wrangling/lib/python3.9/site-packages/diffprivlib/tools/utils.py:276: PrivacyLeakWarning: Bounds have not been specified and will be calculated on the data provided. This will result in additional privacy leakage. To ensure differential privacy and no additional privacy leakage, specify bounds for each dimension.\n",
      "  warnings.warn(\"Bounds have not been specified and will be calculated on the data provided. This will \"\n",
      "/Users/coding/anaconda3/envs/wrangling/lib/python3.9/site-packages/diffprivlib/tools/utils.py:276: PrivacyLeakWarning: Bounds have not been specified and will be calculated on the data provided. This will result in additional privacy leakage. To ensure differential privacy and no additional privacy leakage, specify bounds for each dimension.\n",
      "  warnings.warn(\"Bounds have not been specified and will be calculated on the data provided. This will \"\n",
      "/Users/coding/anaconda3/envs/wrangling/lib/python3.9/site-packages/diffprivlib/tools/utils.py:276: PrivacyLeakWarning: Bounds have not been specified and will be calculated on the data provided. This will result in additional privacy leakage. To ensure differential privacy and no additional privacy leakage, specify bounds for each dimension.\n",
      "  warnings.warn(\"Bounds have not been specified and will be calculated on the data provided. This will \"\n",
      "/Users/coding/anaconda3/envs/wrangling/lib/python3.9/site-packages/diffprivlib/tools/utils.py:276: PrivacyLeakWarning: Bounds have not been specified and will be calculated on the data provided. This will result in additional privacy leakage. To ensure differential privacy and no additional privacy leakage, specify bounds for each dimension.\n",
      "  warnings.warn(\"Bounds have not been specified and will be calculated on the data provided. This will \"\n",
      "/Users/coding/anaconda3/envs/wrangling/lib/python3.9/site-packages/diffprivlib/tools/utils.py:276: PrivacyLeakWarning: Bounds have not been specified and will be calculated on the data provided. This will result in additional privacy leakage. To ensure differential privacy and no additional privacy leakage, specify bounds for each dimension.\n",
      "  warnings.warn(\"Bounds have not been specified and will be calculated on the data provided. This will \"\n",
      "/Users/coding/anaconda3/envs/wrangling/lib/python3.9/site-packages/diffprivlib/tools/utils.py:276: PrivacyLeakWarning: Bounds have not been specified and will be calculated on the data provided. This will result in additional privacy leakage. To ensure differential privacy and no additional privacy leakage, specify bounds for each dimension.\n",
      "  warnings.warn(\"Bounds have not been specified and will be calculated on the data provided. This will \"\n",
      "/Users/coding/anaconda3/envs/wrangling/lib/python3.9/site-packages/diffprivlib/tools/utils.py:276: PrivacyLeakWarning: Bounds have not been specified and will be calculated on the data provided. This will result in additional privacy leakage. To ensure differential privacy and no additional privacy leakage, specify bounds for each dimension.\n",
      "  warnings.warn(\"Bounds have not been specified and will be calculated on the data provided. This will \"\n",
      "/Users/coding/anaconda3/envs/wrangling/lib/python3.9/site-packages/diffprivlib/tools/utils.py:276: PrivacyLeakWarning: Bounds have not been specified and will be calculated on the data provided. This will result in additional privacy leakage. To ensure differential privacy and no additional privacy leakage, specify bounds for each dimension.\n",
      "  warnings.warn(\"Bounds have not been specified and will be calculated on the data provided. This will \"\n",
      "/Users/coding/anaconda3/envs/wrangling/lib/python3.9/site-packages/diffprivlib/tools/utils.py:276: PrivacyLeakWarning: Bounds have not been specified and will be calculated on the data provided. This will result in additional privacy leakage. To ensure differential privacy and no additional privacy leakage, specify bounds for each dimension.\n",
      "  warnings.warn(\"Bounds have not been specified and will be calculated on the data provided. This will \"\n"
     ]
    }
   ],
   "source": [
    "for i in range(iterations):\n",
    "    try:\n",
    "        #Call till Budget is over\n",
    "        diffprivlib.tools.mean(df[column],epsilon=epsilon,accountant=accountant)\n",
    "    except diffprivlib.utils.BudgetError as e:\n",
    "        print(f\"BudgetError caught: {e}\")\n"
   ]
  },
  {
   "cell_type": "code",
   "execution_count": 184,
   "metadata": {},
   "outputs": [
    {
     "data": {
      "text/plain": [
       "'loan_amnt'"
      ]
     },
     "execution_count": 184,
     "metadata": {},
     "output_type": "execute_result"
    }
   ],
   "source": [
    "column"
   ]
  },
  {
   "cell_type": "code",
   "execution_count": null,
   "metadata": {},
   "outputs": [],
   "source": []
  }
 ],
 "metadata": {
  "kernelspec": {
   "display_name": "Python (wrangling)",
   "language": "python",
   "name": "wrangling"
  },
  "language_info": {
   "codemirror_mode": {
    "name": "ipython",
    "version": 3
   },
   "file_extension": ".py",
   "mimetype": "text/x-python",
   "name": "python",
   "nbconvert_exporter": "python",
   "pygments_lexer": "ipython3",
   "version": "3.9.7"
  }
 },
 "nbformat": 4,
 "nbformat_minor": 1
}
